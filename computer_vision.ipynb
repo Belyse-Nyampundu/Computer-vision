{
  "nbformat": 4,
  "nbformat_minor": 0,
  "metadata": {
    "colab": {
      "provenance": []
    },
    "kernelspec": {
      "name": "python3",
      "display_name": "Python 3"
    },
    "language_info": {
      "name": "python"
    }
  },
  "cells": [
    {
      "cell_type": "code",
      "execution_count": 1,
      "metadata": {
        "colab": {
          "base_uri": "https://localhost:8080/"
        },
        "id": "eBUv6IpBRurq",
        "outputId": "0d76fdf4-53c1-4f98-be20-8151042c0b6e"
      },
      "outputs": [
        {
          "output_type": "stream",
          "name": "stdout",
          "text": [
            "Requirement already satisfied: tensorflow in /usr/local/lib/python3.10/dist-packages (2.14.0)\n",
            "Requirement already satisfied: matplotlib in /usr/local/lib/python3.10/dist-packages (3.7.1)\n",
            "Requirement already satisfied: absl-py>=1.0.0 in /usr/local/lib/python3.10/dist-packages (from tensorflow) (1.4.0)\n",
            "Requirement already satisfied: astunparse>=1.6.0 in /usr/local/lib/python3.10/dist-packages (from tensorflow) (1.6.3)\n",
            "Requirement already satisfied: flatbuffers>=23.5.26 in /usr/local/lib/python3.10/dist-packages (from tensorflow) (23.5.26)\n",
            "Requirement already satisfied: gast!=0.5.0,!=0.5.1,!=0.5.2,>=0.2.1 in /usr/local/lib/python3.10/dist-packages (from tensorflow) (0.5.4)\n",
            "Requirement already satisfied: google-pasta>=0.1.1 in /usr/local/lib/python3.10/dist-packages (from tensorflow) (0.2.0)\n",
            "Requirement already satisfied: h5py>=2.9.0 in /usr/local/lib/python3.10/dist-packages (from tensorflow) (3.9.0)\n",
            "Requirement already satisfied: libclang>=13.0.0 in /usr/local/lib/python3.10/dist-packages (from tensorflow) (16.0.6)\n",
            "Requirement already satisfied: ml-dtypes==0.2.0 in /usr/local/lib/python3.10/dist-packages (from tensorflow) (0.2.0)\n",
            "Requirement already satisfied: numpy>=1.23.5 in /usr/local/lib/python3.10/dist-packages (from tensorflow) (1.23.5)\n",
            "Requirement already satisfied: opt-einsum>=2.3.2 in /usr/local/lib/python3.10/dist-packages (from tensorflow) (3.3.0)\n",
            "Requirement already satisfied: packaging in /usr/local/lib/python3.10/dist-packages (from tensorflow) (23.2)\n",
            "Requirement already satisfied: protobuf!=4.21.0,!=4.21.1,!=4.21.2,!=4.21.3,!=4.21.4,!=4.21.5,<5.0.0dev,>=3.20.3 in /usr/local/lib/python3.10/dist-packages (from tensorflow) (3.20.3)\n",
            "Requirement already satisfied: setuptools in /usr/local/lib/python3.10/dist-packages (from tensorflow) (67.7.2)\n",
            "Requirement already satisfied: six>=1.12.0 in /usr/local/lib/python3.10/dist-packages (from tensorflow) (1.16.0)\n",
            "Requirement already satisfied: termcolor>=1.1.0 in /usr/local/lib/python3.10/dist-packages (from tensorflow) (2.3.0)\n",
            "Requirement already satisfied: typing-extensions>=3.6.6 in /usr/local/lib/python3.10/dist-packages (from tensorflow) (4.5.0)\n",
            "Requirement already satisfied: wrapt<1.15,>=1.11.0 in /usr/local/lib/python3.10/dist-packages (from tensorflow) (1.14.1)\n",
            "Requirement already satisfied: tensorflow-io-gcs-filesystem>=0.23.1 in /usr/local/lib/python3.10/dist-packages (from tensorflow) (0.34.0)\n",
            "Requirement already satisfied: grpcio<2.0,>=1.24.3 in /usr/local/lib/python3.10/dist-packages (from tensorflow) (1.59.2)\n",
            "Requirement already satisfied: tensorboard<2.15,>=2.14 in /usr/local/lib/python3.10/dist-packages (from tensorflow) (2.14.1)\n",
            "Requirement already satisfied: tensorflow-estimator<2.15,>=2.14.0 in /usr/local/lib/python3.10/dist-packages (from tensorflow) (2.14.0)\n",
            "Requirement already satisfied: keras<2.15,>=2.14.0 in /usr/local/lib/python3.10/dist-packages (from tensorflow) (2.14.0)\n",
            "Requirement already satisfied: contourpy>=1.0.1 in /usr/local/lib/python3.10/dist-packages (from matplotlib) (1.2.0)\n",
            "Requirement already satisfied: cycler>=0.10 in /usr/local/lib/python3.10/dist-packages (from matplotlib) (0.12.1)\n",
            "Requirement already satisfied: fonttools>=4.22.0 in /usr/local/lib/python3.10/dist-packages (from matplotlib) (4.44.3)\n",
            "Requirement already satisfied: kiwisolver>=1.0.1 in /usr/local/lib/python3.10/dist-packages (from matplotlib) (1.4.5)\n",
            "Requirement already satisfied: pillow>=6.2.0 in /usr/local/lib/python3.10/dist-packages (from matplotlib) (9.4.0)\n",
            "Requirement already satisfied: pyparsing>=2.3.1 in /usr/local/lib/python3.10/dist-packages (from matplotlib) (3.1.1)\n",
            "Requirement already satisfied: python-dateutil>=2.7 in /usr/local/lib/python3.10/dist-packages (from matplotlib) (2.8.2)\n",
            "Requirement already satisfied: wheel<1.0,>=0.23.0 in /usr/local/lib/python3.10/dist-packages (from astunparse>=1.6.0->tensorflow) (0.41.3)\n",
            "Requirement already satisfied: google-auth<3,>=1.6.3 in /usr/local/lib/python3.10/dist-packages (from tensorboard<2.15,>=2.14->tensorflow) (2.17.3)\n",
            "Requirement already satisfied: google-auth-oauthlib<1.1,>=0.5 in /usr/local/lib/python3.10/dist-packages (from tensorboard<2.15,>=2.14->tensorflow) (1.0.0)\n",
            "Requirement already satisfied: markdown>=2.6.8 in /usr/local/lib/python3.10/dist-packages (from tensorboard<2.15,>=2.14->tensorflow) (3.5.1)\n",
            "Requirement already satisfied: requests<3,>=2.21.0 in /usr/local/lib/python3.10/dist-packages (from tensorboard<2.15,>=2.14->tensorflow) (2.31.0)\n",
            "Requirement already satisfied: tensorboard-data-server<0.8.0,>=0.7.0 in /usr/local/lib/python3.10/dist-packages (from tensorboard<2.15,>=2.14->tensorflow) (0.7.2)\n",
            "Requirement already satisfied: werkzeug>=1.0.1 in /usr/local/lib/python3.10/dist-packages (from tensorboard<2.15,>=2.14->tensorflow) (3.0.1)\n",
            "Requirement already satisfied: cachetools<6.0,>=2.0.0 in /usr/local/lib/python3.10/dist-packages (from google-auth<3,>=1.6.3->tensorboard<2.15,>=2.14->tensorflow) (5.3.2)\n",
            "Requirement already satisfied: pyasn1-modules>=0.2.1 in /usr/local/lib/python3.10/dist-packages (from google-auth<3,>=1.6.3->tensorboard<2.15,>=2.14->tensorflow) (0.3.0)\n",
            "Requirement already satisfied: rsa<5,>=3.1.4 in /usr/local/lib/python3.10/dist-packages (from google-auth<3,>=1.6.3->tensorboard<2.15,>=2.14->tensorflow) (4.9)\n",
            "Requirement already satisfied: requests-oauthlib>=0.7.0 in /usr/local/lib/python3.10/dist-packages (from google-auth-oauthlib<1.1,>=0.5->tensorboard<2.15,>=2.14->tensorflow) (1.3.1)\n",
            "Requirement already satisfied: charset-normalizer<4,>=2 in /usr/local/lib/python3.10/dist-packages (from requests<3,>=2.21.0->tensorboard<2.15,>=2.14->tensorflow) (3.3.2)\n",
            "Requirement already satisfied: idna<4,>=2.5 in /usr/local/lib/python3.10/dist-packages (from requests<3,>=2.21.0->tensorboard<2.15,>=2.14->tensorflow) (3.4)\n",
            "Requirement already satisfied: urllib3<3,>=1.21.1 in /usr/local/lib/python3.10/dist-packages (from requests<3,>=2.21.0->tensorboard<2.15,>=2.14->tensorflow) (2.0.7)\n",
            "Requirement already satisfied: certifi>=2017.4.17 in /usr/local/lib/python3.10/dist-packages (from requests<3,>=2.21.0->tensorboard<2.15,>=2.14->tensorflow) (2023.7.22)\n",
            "Requirement already satisfied: MarkupSafe>=2.1.1 in /usr/local/lib/python3.10/dist-packages (from werkzeug>=1.0.1->tensorboard<2.15,>=2.14->tensorflow) (2.1.3)\n",
            "Requirement already satisfied: pyasn1<0.6.0,>=0.4.6 in /usr/local/lib/python3.10/dist-packages (from pyasn1-modules>=0.2.1->google-auth<3,>=1.6.3->tensorboard<2.15,>=2.14->tensorflow) (0.5.0)\n",
            "Requirement already satisfied: oauthlib>=3.0.0 in /usr/local/lib/python3.10/dist-packages (from requests-oauthlib>=0.7.0->google-auth-oauthlib<1.1,>=0.5->tensorboard<2.15,>=2.14->tensorflow) (3.2.2)\n"
          ]
        }
      ],
      "source": [
        "!pip install tensorflow matplotlib\n",
        "\n"
      ]
    },
    {
      "cell_type": "code",
      "source": [
        "import tensorflow as tf\n",
        "from tensorflow.keras import layers, models\n",
        "from tensorflow.keras.preprocessing import image\n",
        "from tensorflow.keras.preprocessing.image import ImageDataGenerator\n",
        "import matplotlib.pyplot as plt\n"
      ],
      "metadata": {
        "id": "oMQ1NClrR11a"
      },
      "execution_count": 2,
      "outputs": []
    },
    {
      "cell_type": "code",
      "source": [
        "!wget --no-check-certificate \\\n",
        "    https://www.dropbox.com/s/d1kjpkqklf0uw77/celeba.zip?dl=0 \\\n",
        "    -O /tmp/celeba.zip\n",
        "\n",
        "import zipfile\n",
        "\n",
        "with zipfile.ZipFile(\"/tmp/celeba.zip\", \"r\") as zip_ref:\n",
        "    zip_ref.extractall(\"/tmp\")"
      ],
      "metadata": {
        "colab": {
          "base_uri": "https://localhost:8080/"
        },
        "id": "bXoHDxIJSE4o",
        "outputId": "82051620-eba2-4f9e-d44e-fd4aaa3af31c"
      },
      "execution_count": 3,
      "outputs": [
        {
          "output_type": "stream",
          "name": "stdout",
          "text": [
            "--2023-11-22 11:01:35--  https://www.dropbox.com/s/d1kjpkqklf0uw77/celeba.zip?dl=0\n",
            "Resolving www.dropbox.com (www.dropbox.com)... 162.125.1.18, 2620:100:6016:18::a27d:112\n",
            "Connecting to www.dropbox.com (www.dropbox.com)|162.125.1.18|:443... connected.\n",
            "HTTP request sent, awaiting response... 302 Found\n",
            "Location: /s/raw/d1kjpkqklf0uw77/celeba.zip [following]\n",
            "--2023-11-22 11:01:35--  https://www.dropbox.com/s/raw/d1kjpkqklf0uw77/celeba.zip\n",
            "Reusing existing connection to www.dropbox.com:443.\n",
            "HTTP request sent, awaiting response... 302 Found\n",
            "Location: https://uc1cc99f1a36bc75540e45cd6643.dl.dropboxusercontent.com/cd/0/inline/CID0gsOASMCqbYNo3sSw9DmHzxphLXI99l6fthItGe8OEON9zpbrrxa-TlDFJHlK7wiY8MxrCtvn59kv9Rifp7onarX-GdGMwkKHh39W3Y4i5FoMG3Nbeu98EQR6x1AqWf8tfIuHnASA15BxD0zE0qe_/file# [following]\n",
            "--2023-11-22 11:01:35--  https://uc1cc99f1a36bc75540e45cd6643.dl.dropboxusercontent.com/cd/0/inline/CID0gsOASMCqbYNo3sSw9DmHzxphLXI99l6fthItGe8OEON9zpbrrxa-TlDFJHlK7wiY8MxrCtvn59kv9Rifp7onarX-GdGMwkKHh39W3Y4i5FoMG3Nbeu98EQR6x1AqWf8tfIuHnASA15BxD0zE0qe_/file\n",
            "Resolving uc1cc99f1a36bc75540e45cd6643.dl.dropboxusercontent.com (uc1cc99f1a36bc75540e45cd6643.dl.dropboxusercontent.com)... 162.125.1.15, 2620:100:6016:15::a27d:10f\n",
            "Connecting to uc1cc99f1a36bc75540e45cd6643.dl.dropboxusercontent.com (uc1cc99f1a36bc75540e45cd6643.dl.dropboxusercontent.com)|162.125.1.15|:443... connected.\n",
            "HTTP request sent, awaiting response... 302 Found\n",
            "Location: /cd/0/inline2/CIAn0LmZwgv4B5msl8uiU-0-g4WAQbhZWk3BQKZzUvAbIyEfePbsy9aCPKzj2T1SgUG6BOMMdx8FvjtfsvDbZ3oATCUIO2nSYUf8bkwdD0F6VWe04lXqVLVmvT6xkBr2AsgJBi7v0wxVL2P9pTVbA4psezf-PyrCuOEYaQCsI4uu8VJAz3mrtypvn-GVnNeXwisbO8pWNQBu6jiLqIfH5YfRgnSzhRsUb8kZL5RKX_T4vykJlb5avA96-8kxMjbUt07REW5-0pAB4_vf1Fq5JZ4FIAenuC5d57ItUZboHPhyaxPKYAZMUzX8j7Z14aHQke2DC-cz_ai45CVgAqM-1e16l7abH3W-iDQXe0GFscUBcrCIP_5EBga5MLXKg2nylKM/file [following]\n",
            "--2023-11-22 11:01:36--  https://uc1cc99f1a36bc75540e45cd6643.dl.dropboxusercontent.com/cd/0/inline2/CIAn0LmZwgv4B5msl8uiU-0-g4WAQbhZWk3BQKZzUvAbIyEfePbsy9aCPKzj2T1SgUG6BOMMdx8FvjtfsvDbZ3oATCUIO2nSYUf8bkwdD0F6VWe04lXqVLVmvT6xkBr2AsgJBi7v0wxVL2P9pTVbA4psezf-PyrCuOEYaQCsI4uu8VJAz3mrtypvn-GVnNeXwisbO8pWNQBu6jiLqIfH5YfRgnSzhRsUb8kZL5RKX_T4vykJlb5avA96-8kxMjbUt07REW5-0pAB4_vf1Fq5JZ4FIAenuC5d57ItUZboHPhyaxPKYAZMUzX8j7Z14aHQke2DC-cz_ai45CVgAqM-1e16l7abH3W-iDQXe0GFscUBcrCIP_5EBga5MLXKg2nylKM/file\n",
            "Reusing existing connection to uc1cc99f1a36bc75540e45cd6643.dl.dropboxusercontent.com:443.\n",
            "HTTP request sent, awaiting response... 200 OK\n",
            "Length: 1417753833 (1.3G) [application/zip]\n",
            "Saving to: ‘/tmp/celeba.zip’\n",
            "\n",
            "/tmp/celeba.zip     100%[===================>]   1.32G   140MB/s    in 10s     \n",
            "\n",
            "2023-11-22 11:01:47 (135 MB/s) - ‘/tmp/celeba.zip’ saved [1417753833/1417753833]\n",
            "\n"
          ]
        }
      ]
    },
    {
      "cell_type": "code",
      "source": [
        "import tensorflow as tf\n",
        "from tensorflow.keras import layers, models\n",
        "from tensorflow.keras.preprocessing.image import ImageDataGenerator\n",
        "import matplotlib.pyplot as plt\n",
        "\n",
        "# Define the model\n",
        "model = models.Sequential()\n",
        "model.add(layers.Conv2D(32, (3, 3), activation='relu', input_shape=(218, 178, 3)))\n",
        "model.add(layers.MaxPooling2D((2, 2)))\n",
        "model.add(layers.Conv2D(64, (3, 3), activation='relu'))\n",
        "model.add(layers.MaxPooling2D((2, 2)))\n",
        "model.add(layers.Conv2D(128, (3, 3), activation='relu'))\n",
        "model.add(layers.MaxPooling2D((2, 2)))\n",
        "model.add(layers.Flatten())\n",
        "model.add(layers.Dense(128, activation='relu'))\n",
        "model.add(layers.Dense(2, activation='softmax'))  # Two neurons for 'man' and 'woman'\n",
        "\n",
        "model.compile(optimizer='adam', loss='categorical_crossentropy', metrics=['accuracy'])\n",
        "\n",
        "# Data augmentation with validation split\n",
        "train_datagen = ImageDataGenerator(\n",
        "    rescale=1./255,\n",
        "    shear_range=0.2,\n",
        "    zoom_range=0.2,\n",
        "    horizontal_flip=True,\n",
        "    validation_split=0.2  # 80% for training, 20% for validation\n",
        ")\n",
        "\n",
        "# Update the path to the CelebA dataset\n",
        "celeba_directory = \"/tmp/celeba/\"\n",
        "train_generator = train_datagen.flow_from_directory(\n",
        "    celeba_directory,\n",
        "    target_size=(218, 178),\n",
        "    batch_size=32,\n",
        "    class_mode='categorical',\n",
        "    subset='training',  # Specify 'training' for the training set\n",
        "    shuffle=True\n",
        ")\n",
        "\n",
        "validation_generator = train_datagen.flow_from_directory(\n",
        "    celeba_directory,\n",
        "    target_size=(218, 178),\n",
        "    batch_size=32,\n",
        "    class_mode='categorical',\n",
        "    subset='validation',  # Specify 'validation' for the validation set\n",
        "    shuffle=False  # No need to shuffle the validation set\n",
        ")\n",
        "\n",
        "# Train the model\n",
        "history = model.fit(train_generator, epochs=5, verbose=1, validation_data=validation_generator)\n"
      ],
      "metadata": {
        "id": "sEkcB_e6SM84",
        "colab": {
          "base_uri": "https://localhost:8080/"
        },
        "outputId": "91460261-947e-4022-d5f9-ad82236e007d"
      },
      "execution_count": null,
      "outputs": [
        {
          "output_type": "stream",
          "name": "stdout",
          "text": [
            "Found 162080 images belonging to 1 classes.\n",
            "Found 40519 images belonging to 1 classes.\n",
            "Epoch 1/5\n",
            "4861/5065 [===========================>..] - ETA: 8:57 - loss: 4561641668608.0000 - accuracy: 0.5003"
          ]
        }
      ]
    }
  ]
}